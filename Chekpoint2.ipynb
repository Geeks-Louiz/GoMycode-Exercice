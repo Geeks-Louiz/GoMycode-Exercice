{
  "nbformat": 4,
  "nbformat_minor": 0,
  "metadata": {
    "colab": {
      "name": "Chekpoint2.ipynb",
      "provenance": [],
      "authorship_tag": "ABX9TyNAFMUj9SnxQm3EqohzvrPJ",
      "include_colab_link": true
    },
    "kernelspec": {
      "name": "python3",
      "display_name": "Python 3"
    },
    "language_info": {
      "name": "python"
    }
  },
  "cells": [
    {
      "cell_type": "markdown",
      "metadata": {
        "id": "view-in-github",
        "colab_type": "text"
      },
      "source": [
        "<a href=\"https://colab.research.google.com/github/Geeks-Louiz/GoMycode-Exercice/blob/master/Chekpoint2.ipynb\" target=\"_parent\"><img src=\"https://colab.research.google.com/assets/colab-badge.svg\" alt=\"Open In Colab\"/></a>"
      ]
    },
    {
      "cell_type": "code",
      "metadata": {
        "id": "oLfN-qEJ394j"
      },
      "source": [
        "import pandas as pd\n",
        "import numpy as np\n",
        "import matplotlib.pyplot as plt\n",
        "import seaborn as sns\n"
      ],
      "execution_count": 17,
      "outputs": []
    },
    {
      "cell_type": "code",
      "metadata": {
        "colab": {
          "base_uri": "https://localhost:8080/"
        },
        "id": "YYzb0t6Y5Sz9",
        "outputId": "ece12857-5226-4ac8-a83b-8547c4ee69bc"
      },
      "source": [
        "data = pd.read_csv('/content/bank.csv')\n",
        "print (data)\n",
        "# value of each attributes\n",
        "print(data.nunique(axis=0))\n",
        "print(data.isnull().sum())\n",
        "print(data.isnull().values.any())\n",
        "# No missing values\n"
      ],
      "execution_count": 13,
      "outputs": [
        {
          "output_type": "stream",
          "text": [
            "       age          job  marital  education  ... pdays  previous poutcome deposit\n",
            "0       59       admin.  married  secondary  ...    -1         0  unknown     yes\n",
            "1       56       admin.  married  secondary  ...    -1         0  unknown     yes\n",
            "2       41   technician  married  secondary  ...    -1         0  unknown     yes\n",
            "3       55     services  married  secondary  ...    -1         0  unknown     yes\n",
            "4       54       admin.  married   tertiary  ...    -1         0  unknown     yes\n",
            "...    ...          ...      ...        ...  ...   ...       ...      ...     ...\n",
            "11157   33  blue-collar   single    primary  ...    -1         0  unknown      no\n",
            "11158   39     services  married  secondary  ...    -1         0  unknown      no\n",
            "11159   32   technician   single  secondary  ...    -1         0  unknown      no\n",
            "11160   43   technician  married  secondary  ...   172         5  failure      no\n",
            "11161   34   technician  married  secondary  ...    -1         0  unknown      no\n",
            "\n",
            "[11162 rows x 17 columns]\n",
            "age            76\n",
            "job            12\n",
            "marital         3\n",
            "education       4\n",
            "default         2\n",
            "balance      3805\n",
            "housing         2\n",
            "loan            2\n",
            "contact         3\n",
            "day            31\n",
            "month          12\n",
            "duration     1428\n",
            "campaign       36\n",
            "pdays         472\n",
            "previous       34\n",
            "poutcome        4\n",
            "deposit         2\n",
            "dtype: int64\n",
            "age          0\n",
            "job          0\n",
            "marital      0\n",
            "education    0\n",
            "default      0\n",
            "balance      0\n",
            "housing      0\n",
            "loan         0\n",
            "contact      0\n",
            "day          0\n",
            "month        0\n",
            "duration     0\n",
            "campaign     0\n",
            "pdays        0\n",
            "previous     0\n",
            "poutcome     0\n",
            "deposit      0\n",
            "dtype: int64\n",
            "False\n"
          ],
          "name": "stdout"
        }
      ]
    },
    {
      "cell_type": "code",
      "metadata": {
        "colab": {
          "base_uri": "https://localhost:8080/",
          "height": 742
        },
        "id": "MuG1_37z6tYp",
        "outputId": "f7d36afc-d094-4f80-c36b-fe1f046dc5ce"
      },
      "source": [
        "# Analysis of attribute \n",
        "# We notice that we have more 'No' deposit than 'Yes' deposit\n",
        "value_counts = data['deposit'].value_counts()\n",
        "value_counts.plot.bar(title  = 'Deposit value counts')\n",
        "# we notice that more than  80 personne with deposi yes have more than 90years old\n",
        "a_df = pd.DataFrame()\n",
        "a_df['age_yes'] = (data[data['deposit'] == 'yes'][['deposit','age']].describe())['age']\n",
        "a_df['age_no'] = (data[data['deposit'] == 'no'][['deposit','age']].describe())['age']\n",
        "print(a_df)\n",
        "a_df.drop(['count', '25%', '50%', '75%']).plot.bar(title = 'Age and deposit statistics')"
      ],
      "execution_count": 24,
      "outputs": [
        {
          "output_type": "stream",
          "text": [
            "           age_yes       age_no\n",
            "count  5289.000000  5873.000000\n",
            "mean     41.670070    40.837391\n",
            "std      13.497781    10.264815\n",
            "min      18.000000    18.000000\n",
            "25%      31.000000    33.000000\n",
            "50%      38.000000    39.000000\n",
            "75%      50.000000    48.000000\n",
            "max      95.000000    89.000000\n"
          ],
          "name": "stdout"
        },
        {
          "output_type": "execute_result",
          "data": {
            "text/plain": [
              "<matplotlib.axes._subplots.AxesSubplot at 0x7fc72f72d410>"
            ]
          },
          "metadata": {
            "tags": []
          },
          "execution_count": 24
        },
        {
          "output_type": "display_data",
          "data": {
            "image/png": "[encoded data removed]",
            "text/plain": [
              "<Figure size 432x288 with 1 Axes>"
            ]
          },
          "metadata": {
            "tags": [],
            "needs_background": "light"
          }
        },
        {
          "output_type": "display_data",
          "data": {
            "image/png": "[encoded data removed]",
            "text/plain": [
              "<Figure size 432x288 with 1 Axes>"
            ]
          },
          "metadata": {
            "tags": [],
            "needs_background": "light"
          }
        }
      ]
    },
    {
      "cell_type": "code",
      "metadata": {
        "id": "CE0zIQAcCHiv",
        "outputId": "b7b2720e-b87b-43c1-f5a7-c9b72a3da476",
        "colab": {
          "base_uri": "https://localhost:8080/"
        }
      },
      "source": [
        "#data cleaning\n",
        "# transform yes no deposit to num\n",
        "data.deposit.replace(to_replace=['no', 'yes'], value=[0, 1])\n",
        "dataX=data.drop('deposit',axis=1)\n",
        "dataY=data['deposit']\n",
        "print(dataX)\n",
        "print(dataY)\n",
        "\n",
        "\n"
      ],
      "execution_count": 27,
      "outputs": [
        {
          "output_type": "stream",
          "text": [
            "       age          job  marital  education  ... campaign  pdays previous poutcome\n",
            "0       59       admin.  married  secondary  ...        1     -1        0  unknown\n",
            "1       56       admin.  married  secondary  ...        1     -1        0  unknown\n",
            "2       41   technician  married  secondary  ...        1     -1        0  unknown\n",
            "3       55     services  married  secondary  ...        1     -1        0  unknown\n",
            "4       54       admin.  married   tertiary  ...        2     -1        0  unknown\n",
            "...    ...          ...      ...        ...  ...      ...    ...      ...      ...\n",
            "11157   33  blue-collar   single    primary  ...        1     -1        0  unknown\n",
            "11158   39     services  married  secondary  ...        4     -1        0  unknown\n",
            "11159   32   technician   single  secondary  ...        2     -1        0  unknown\n",
            "11160   43   technician  married  secondary  ...        2    172        5  failure\n",
            "11161   34   technician  married  secondary  ...        1     -1        0  unknown\n",
            "\n",
            "[11162 rows x 16 columns]\n",
            "0        yes\n",
            "1        yes\n",
            "2        yes\n",
            "3        yes\n",
            "4        yes\n",
            "        ... \n",
            "11157     no\n",
            "11158     no\n",
            "11159     no\n",
            "11160     no\n",
            "11161     no\n",
            "Name: deposit, Length: 11162, dtype: object\n"
          ],
          "name": "stdout"
        }
      ]
    }
  ]
}